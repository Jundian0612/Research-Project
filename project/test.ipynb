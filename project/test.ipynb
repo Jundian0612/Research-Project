{
 "cells": [
  {
   "cell_type": "code",
   "execution_count": 1,
   "id": "aa665dc0",
   "metadata": {},
   "outputs": [
    {
     "name": "stderr",
     "output_type": "stream",
     "text": [
      "/home/jundian/miniconda3/envs/geospatial-neural-adapter/lib/python3.10/site-packages/fs/__init__.py:4: UserWarning: pkg_resources is deprecated as an API. See https://setuptools.pypa.io/en/latest/pkg_resources.html. The pkg_resources package is slated for removal as early as 2025-11-30. Refrain from using this package or pin to Setuptools<81.\n",
      "  __import__(\"pkg_resources\").declare_namespace(__name__)  # type: ignore\n",
      "/home/jundian/miniconda3/envs/geospatial-neural-adapter/lib/python3.10/site-packages/tqdm/auto.py:21: TqdmWarning: IProgress not found. Please update jupyter and ipywidgets. See https://ipywidgets.readthedocs.io/en/stable/user_install.html\n",
      "  from .autonotebook import tqdm as notebook_tqdm\n",
      "GPU available: False, used: False\n",
      "TPU available: False, using: 0 TPU cores\n",
      "HPU available: False, using: 0 HPUs\n",
      "\n",
      "  | Name            | Type             | Params | Mode \n",
      "-------------------------------------------------------------\n",
      "0 | criterion       | MSELoss          | 0      | train\n",
      "1 | train_criterion | MSELoss          | 0      | train\n",
      "2 | val_criterion   | MSELoss          | 0      | train\n",
      "3 | train_metrics   | MetricCollection | 0      | train\n",
      "4 | val_metrics     | MetricCollection | 0      | train\n",
      "5 | decomposition   | _SeriesDecomp    | 0      | train\n",
      "6 | linear_seasonal | Linear           | 114    | train\n",
      "7 | linear_trend    | Linear           | 114    | train\n",
      "8 | linear_fut_cov  | Linear           | 2      | train\n",
      "-------------------------------------------------------------\n",
      "230       Trainable params\n",
      "0         Non-trainable params\n",
      "230       Total params\n",
      "0.002     Total estimated model params size (MB)\n",
      "11        Modules in train mode\n",
      "0         Modules in eval mode\n",
      "/home/jundian/miniconda3/envs/geospatial-neural-adapter/lib/python3.10/site-packages/torch/utils/data/dataloader.py:665: UserWarning: 'pin_memory' argument is set as true but no accelerator is found, then device pinned memory won't be used.\n",
      "  warnings.warn(warn_msg)\n"
     ]
    },
    {
     "name": "stdout",
     "output_type": "stream",
     "text": [
      "Epoch 19: 100%|██████████| 3/3 [00:00<00:00, 120.63it/s, train_loss=1.19e+5]"
     ]
    },
    {
     "name": "stderr",
     "output_type": "stream",
     "text": [
      "`Trainer.fit` stopped: `max_epochs=20` reached.\n"
     ]
    },
    {
     "name": "stdout",
     "output_type": "stream",
     "text": [
      "Epoch 19: 100%|██████████| 3/3 [00:00<00:00, 110.21it/s, train_loss=1.19e+5]\n"
     ]
    },
    {
     "name": "stderr",
     "output_type": "stream",
     "text": [
      "GPU available: False, used: False\n",
      "TPU available: False, using: 0 TPU cores\n",
      "HPU available: False, using: 0 HPUs\n"
     ]
    },
    {
     "name": "stdout",
     "output_type": "stream",
     "text": [
      "Predicting DataLoader 0: 100%|██████████| 1/1 [00:00<00:00, 101.03it/s]\n",
      "[[668.46878122]\n",
      " [668.24985692]\n",
      " [668.07827486]\n",
      " [667.30637021]\n",
      " [667.09224218]\n",
      " [667.10841827]]\n"
     ]
    }
   ],
   "source": [
    "from darts.datasets import WeatherDataset\n",
    "from darts.models import DLinearModel\n",
    "series = WeatherDataset().load()\n",
    "# predicting atmospheric pressure\n",
    "target = series['p (mbar)'][:100]\n",
    "# optionally, use past observed rainfall (pretending to be unknown beyond index 100)\n",
    "past_cov = series['rain (mm)'][:100]\n",
    "# optionally, use future temperatures (pretending this component is a forecast)\n",
    "future_cov = series['T (degC)'][:106]\n",
    "# predict 6 pressure values using the 12 past values of pressure and rainfall, as well as the 6 temperature\n",
    "# values corresponding to the forecasted period\n",
    "model = DLinearModel(\n",
    "    input_chunk_length=6,\n",
    "    output_chunk_length=6,\n",
    "    n_epochs=20,\n",
    ")\n",
    "model.fit(target, past_covariates=past_cov, future_covariates=future_cov)\n",
    "pred = model.predict(6)\n",
    "print(pred.values())"
   ]
  },
  {
   "cell_type": "code",
   "execution_count": 2,
   "id": "dbf0f0a3",
   "metadata": {},
   "outputs": [
    {
     "name": "stderr",
     "output_type": "stream",
     "text": [
      "GPU available: False, used: False\n",
      "TPU available: False, using: 0 TPU cores\n",
      "HPU available: False, using: 0 HPUs\n",
      "\n",
      "  | Name            | Type             | Params | Mode \n",
      "-------------------------------------------------------------\n",
      "0 | criterion       | MSELoss          | 0      | train\n",
      "1 | train_criterion | MSELoss          | 0      | train\n",
      "2 | val_criterion   | MSELoss          | 0      | train\n",
      "3 | train_metrics   | MetricCollection | 0      | train\n",
      "4 | val_metrics     | MetricCollection | 0      | train\n",
      "5 | decomposition   | _SeriesDecomp    | 0      | train\n",
      "6 | linear_seasonal | Linear           | 114    | train\n",
      "7 | linear_trend    | Linear           | 114    | train\n",
      "8 | linear_fut_cov  | Linear           | 2      | train\n",
      "-------------------------------------------------------------\n",
      "230       Trainable params\n",
      "0         Non-trainable params\n",
      "230       Total params\n",
      "0.002     Total estimated model params size (MB)\n",
      "11        Modules in train mode\n",
      "0         Modules in eval mode\n",
      "/home/jundian/miniconda3/envs/geospatial-neural-adapter/lib/python3.10/site-packages/torch/utils/data/dataloader.py:665: UserWarning: 'pin_memory' argument is set as true but no accelerator is found, then device pinned memory won't be used.\n",
      "  warnings.warn(warn_msg)\n"
     ]
    },
    {
     "name": "stdout",
     "output_type": "stream",
     "text": [
      "Epoch 19: 100%|██████████| 3/3 [00:00<00:00, 109.93it/s, train_loss=1.19e+5]"
     ]
    },
    {
     "name": "stderr",
     "output_type": "stream",
     "text": [
      "`Trainer.fit` stopped: `max_epochs=20` reached.\n"
     ]
    },
    {
     "name": "stdout",
     "output_type": "stream",
     "text": [
      "Epoch 19: 100%|██████████| 3/3 [00:00<00:00, 100.61it/s, train_loss=1.19e+5]\n"
     ]
    },
    {
     "name": "stderr",
     "output_type": "stream",
     "text": [
      "GPU available: False, used: False\n",
      "TPU available: False, using: 0 TPU cores\n",
      "HPU available: False, using: 0 HPUs\n"
     ]
    },
    {
     "name": "stdout",
     "output_type": "stream",
     "text": [
      "Predicting DataLoader 0: 100%|██████████| 1/1 [00:00<00:00, 202.61it/s]\n",
      "[[668.49650629]\n",
      " [668.23273008]\n",
      " [667.45203101]\n",
      " [667.14061659]\n",
      " [666.65911445]\n",
      " [666.91289688]]\n"
     ]
    }
   ],
   "source": [
    "from darts.datasets import WeatherDataset\n",
    "from darts.models import DLinearModel\n",
    "series = WeatherDataset().load()\n",
    "# predicting atmospheric pressure\n",
    "target = series['p (mbar)'][:100]\n",
    "# optionally, use past observed rainfall (pretending to be unknown beyond index 100)\n",
    "past_cov = series['rain (mm)'][:100]\n",
    "# optionally, use future temperatures (pretending this component is a forecast)\n",
    "future_cov = series['T (degC)'][:106]\n",
    "# predict 6 pressure values using the 12 past values of pressure and rainfall, as well as the 6 temperature\n",
    "# values corresponding to the forecasted period\n",
    "model = DLinearModel(\n",
    "    input_chunk_length=6,\n",
    "    output_chunk_length=6,\n",
    "    n_epochs=20,\n",
    ")\n",
    "model.fit(target, past_covariates=past_cov, future_covariates=future_cov)\n",
    "pred = model.predict(6)\n",
    "print(pred.values())"
   ]
  }
 ],
 "metadata": {
  "kernelspec": {
   "display_name": "geospatial-neural-adapter",
   "language": "python",
   "name": "python3"
  },
  "language_info": {
   "codemirror_mode": {
    "name": "ipython",
    "version": 3
   },
   "file_extension": ".py",
   "mimetype": "text/x-python",
   "name": "python",
   "nbconvert_exporter": "python",
   "pygments_lexer": "ipython3",
   "version": "3.10.13"
  }
 },
 "nbformat": 4,
 "nbformat_minor": 5
}
